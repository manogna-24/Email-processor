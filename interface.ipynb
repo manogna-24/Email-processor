import ipywidgets as widgets
from IPython.display import display, clear_output
from email_processor import EmailProcessor

# Initialize the EmailProcessor instance
processor = EmailProcessor('config.ini')

# Styling variables
button_style_success = {
    'background': '#4CAF50',  # Green
    'color': 'white',
    'padding': '10px',
    'border': 'none',
    'border-radius': '5px',
    'font-size': '14px',
    'cursor': 'pointer'
}

button_style_error = {
    'background': '#f44336',  # Red
    'color': 'white',
    'padding': '10px',
    'border': 'none',
    'border-radius': '5px',
    'font-size': '14px',
    'cursor': 'pointer'
}
textarea_style = {
    'border': '1px solid #ddd',
    'padding': '10px',
    'border-radius': '5px',
    'background-color': '#f9f9f9',
    'font-family': 'Courier New, monospace',
    'font-size': '12px'
}

# Create UI elements
status_output = widgets.Output()
run_button = widgets.Button(
    description="Process Unread Emails",
    button_style='success',
    layout=widgets.Layout(width="200px", height="40px"),
    tooltip="Click to start processing unread emails"
)
run_button.style.button_color = '#4CAF50'

log_display = widgets.Textarea(
    value="",
    placeholder="Log output will appear here...",
    description="",
    layout=widgets.Layout(width="100%", height="300px"),
    style=textarea_style
)

status_label = widgets.Label(value="Status: Ready", layout=widgets.Layout(padding='10px'))

# Define button click event
def on_run_button_click(b):
    with status_output:
        clear_output()
        try:
            status_label.value = "Status: Connecting to database..."
            processor._setup_database()
            log_display.value += "Database connected successfully.\n"
            
            status_label.value = "Status: Processing emails..."
            processor.process_unread_emails()
            
            status_label.value = "Status: Completed"
            log_display.value += "Processing completed successfully.\n"
        except Exception as e:
            status_label.value = "Status: Error encountered"
            log_display.value += f"Error: {str(e)}\n"

# Link button click to handler
run_button.on_click(on_run_button_click)

# Style the interface
header = widgets.HTML("<h2 style='color: #4CAF50; font-family: Arial;'>Email Processor Interface</h2>")
footer = widgets.HTML("<p style='font-family: Arial; font-size: 12px;'>Powered by Python & MongoDB</p>")

# Display the interface
interface = widgets.VBox([
    header,
    run_button,
    log_display,
    status_label,
    status_output,
    footer
])

display(interface)
